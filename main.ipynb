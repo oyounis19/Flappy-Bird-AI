{
 "cells": [
  {
   "cell_type": "code",
   "execution_count": 1,
   "metadata": {},
   "outputs": [
    {
     "name": "stdout",
     "output_type": "stream",
     "text": [
      "pygame 2.5.2 (SDL 2.28.3, Python 3.10.13)\n",
      "Hello from the pygame community. https://www.pygame.org/contribute.html\n"
     ]
    }
   ],
   "source": [
    "from game import Game\n",
    "from model import NeuralNetwork\n",
    "from GA import GeneticAlgorithm as GA\n",
    "import warnings\n",
    "warnings.filterwarnings(\"ignore\") # to ignore RuntimeWarning by exp function in numpy"
   ]
  },
  {
   "cell_type": "code",
   "execution_count": 4,
   "metadata": {},
   "outputs": [],
   "source": [
    "game = Game(jump_size=8)\n",
    "\n",
    "ga = GA(population_size=100,\n",
    "        mutation_rate=0.15,\n",
    "        nn=NeuralNetwork,\n",
    "        game=game,\n",
    "        crossover_probability=0.85\n",
    "        )"
   ]
  },
  {
   "cell_type": "code",
   "execution_count": 5,
   "metadata": {},
   "outputs": [
    {
     "name": "stdout",
     "output_type": "stream",
     "text": [
      "Epoch 0: Best Score = 3\n",
      "Epoch 1: Best Score = 3\n",
      "Epoch 2: Best Score = 2\n",
      "Epoch 3: Best Score = 3\n",
      "Epoch 4: Best Score = 2\n",
      "Epoch 5: Best Score = 1\n",
      "Epoch 6: Best Score = 3\n",
      "Epoch 7: Best Score = 13\n",
      "Epoch 8: Best Score = 2\n",
      "Epoch 9: Best Score = 8\n",
      "Epoch 10: Best Score = 7\n",
      "Epoch 11: Best Score = 3\n",
      "Epoch 12: Best Score = 11\n",
      "Epoch 13: Best Score = 29\n",
      "Epoch 14: Best Score = 7\n",
      "Epoch 15: Best Score = 13\n",
      "Epoch 16: Best Score = 4\n",
      "Epoch 17: Best Score = 4\n",
      "Epoch 18: Best Score = 5\n",
      "Epoch 19: Best Score = 8\n",
      "Epoch 20: Best Score = 2\n",
      "Epoch 21: Best Score = 3\n",
      "Epoch 22: Best Score = 5\n",
      "Epoch 23: Best Score = 4\n",
      "Epoch 24: Best Score = 4\n",
      "Epoch 25: Best Score = 4\n",
      "Epoch 26: Best Score = 5\n",
      "Epoch 27: Best Score = 23\n",
      "Epoch 28: Best Score = 24\n",
      "Epoch 29: Best Score = 12\n",
      "Epoch 30: Best Score = 6\n",
      "Epoch 31: Best Score = 3\n",
      "Epoch 32: Best Score = 37\n",
      "Epoch 33: Best Score = 20\n",
      "Epoch 34: Best Score = 32\n",
      "Epoch 35: Best Score = 2\n",
      "Epoch 36: Best Score = 40\n",
      "Epoch 37: Best Score = 6\n",
      "Epoch 38: Best Score = 5\n",
      "Epoch 39: Best Score = 18\n",
      "Epoch 40: Best Score = 2\n",
      "Epoch 41: Best Score = 15\n",
      "Epoch 42: Best Score = 5\n",
      "Epoch 43: Best Score = 24\n",
      "Epoch 44: Best Score = 5\n",
      "Epoch 45: Best Score = 22\n",
      "Epoch 46: Best Score = 26\n",
      "Epoch 47: Best Score = 8\n",
      "Epoch 48: Best Score = 15\n",
      "Epoch 49: Best Score = 18\n",
      "Epoch 50: Best Score = 14\n",
      "Epoch 51: Best Score = 5\n",
      "Epoch 52: Best Score = 9\n",
      "Epoch 53: Best Score = 20\n",
      "Epoch 54: Best Score = 12\n",
      "Epoch 55: Best Score = 7\n",
      "Epoch 56: Best Score = 9\n",
      "Epoch 57: Best Score = 13\n",
      "Epoch 58: Best Score = 22\n",
      "Epoch 59: Best Score = 27\n",
      "Epoch 60: Best Score = 16\n",
      "Epoch 61: Best Score = 26\n",
      "Epoch 62: Best Score = 26\n",
      "Epoch 63: Best Score = 16\n",
      "Epoch 64: Best Score = 28\n",
      "Epoch 65: Best Score = 21\n",
      "Epoch 66: Best Score = 4\n",
      "Epoch 67: Best Score = 31\n",
      "Epoch 68: Best Score = 50\n",
      "Epoch 69: Best Score = 11\n",
      "Epoch 70: Best Score = 10\n",
      "Epoch 71: Best Score = 11\n",
      "Epoch 72: Best Score = 14\n",
      "Epoch 73: Best Score = 21\n",
      "Epoch 74: Best Score = 4\n",
      "Epoch 75: Best Score = 13\n",
      "Epoch 76: Best Score = 32\n",
      "Epoch 77: Best Score = 4\n",
      "Epoch 78: Best Score = 4\n",
      "Epoch 79: Best Score = 19\n",
      "Epoch 80: Best Score = 42\n",
      "Epoch 81: Best Score = 33\n",
      "Epoch 82: Best Score = 44\n",
      "Epoch 83: Best Score = 43\n",
      "Epoch 84: Best Score = 34\n",
      "Epoch 85: Best Score = 22\n",
      "Epoch 86: Best Score = 58\n",
      "Epoch 87: Best Score = 32\n",
      "Epoch 88: Best Score = 17\n",
      "Epoch 89: Best Score = 8\n",
      "Epoch 90: Best Score = 14\n",
      "Epoch 91: Best Score = 3\n",
      "Epoch 92: Best Score = 27\n",
      "Epoch 93: Best Score = 10\n",
      "Epoch 94: Best Score = 18\n",
      "Epoch 95: Best Score = 7\n",
      "Epoch 96: Best Score = 21\n",
      "Epoch 97: Best Score = 11\n",
      "Epoch 98: Best Score = 43\n",
      "Epoch 99: Best Score = 19\n",
      "Epoch 100: Best Score = 31\n",
      "Epoch 101: Best Score = 29\n",
      "Epoch 102: Best Score = 49\n",
      "Epoch 103: Best Score = 16\n",
      "Epoch 104: Best Score = 16\n",
      "Epoch 105: Best Score = 94\n",
      "Epoch 106: Best Score = 84\n",
      "Epoch 107: Best Score = 110\n",
      "Epoch 108: Best Score = 25\n",
      "Epoch 109: Best Score = 47\n",
      "Epoch 110: Best Score = 51\n",
      "Epoch 111: Best Score = 46\n",
      "Epoch 112: Best Score = 26\n",
      "Epoch 113: Best Score = 79\n",
      "Epoch 114: Best Score = 72\n",
      "Epoch 115: Best Score = 93\n",
      "Epoch 116: Best Score = 43\n",
      "Epoch 117: Best Score = 138\n",
      "Epoch 118: Best Score = 28\n",
      "Epoch 119: Best Score = 26\n",
      "Epoch 120: Best Score = 12\n",
      "Epoch 121: Best Score = 28\n",
      "Epoch 122: Best Score = 16\n",
      "Epoch 123: Best Score = 54\n",
      "Epoch 124: Best Score = 29\n",
      "Epoch 125: Best Score = 87\n",
      "Epoch 126: Best Score = 56\n",
      "Epoch 127: Best Score = 161\n",
      "Epoch 128: Best Score = 4\n",
      "Epoch 129: Best Score = 61\n",
      "Epoch 130: Best Score = 70\n",
      "Epoch 131: Best Score = 51\n",
      "Epoch 132: Best Score = 31\n",
      "Epoch 133: Best Score = 18\n",
      "Epoch 134: Best Score = 121\n",
      "Epoch 135: Best Score = 57\n",
      "Epoch 136: Best Score = 12\n",
      "Epoch 137: Best Score = 32\n",
      "Epoch 138: Best Score = 68\n",
      "Epoch 139: Best Score = 22\n",
      "Epoch 140: Best Score = 76\n",
      "Epoch 141: Best Score = 176\n",
      "Epoch 142: Best Score = 61\n",
      "Epoch 143: Best Score = 57\n",
      "Epoch 144: Best Score = 125\n",
      "Epoch 145: Best Score = 50\n"
     ]
    }
   ],
   "source": [
    "# Training\n",
    "best_nn = ga.train(epochs=200, max_score=800)"
   ]
  },
  {
   "cell_type": "code",
   "execution_count": 4,
   "metadata": {},
   "outputs": [
    {
     "data": {
      "text/plain": [
       "True"
      ]
     },
     "execution_count": 4,
     "metadata": {},
     "output_type": "execute_result"
    }
   ],
   "source": [
    "# Save the best weights(Optional)\n",
    "best_nn.save_weights('Best_Weights')"
   ]
  },
  {
   "cell_type": "code",
   "execution_count": 3,
   "metadata": {},
   "outputs": [
    {
     "data": {
      "text/plain": [
       "[array([[-0.63429357,  0.35946482, -0.26479992, -0.29451115,  0.99912916,\n",
       "          2.45313832,  0.92499378,  0.1627948 ],\n",
       "        [-0.96266795, -0.23680827,  1.05467748, -2.09530606,  0.60068837,\n",
       "         -1.589558  ,  0.63506856,  1.68939075],\n",
       "        [-0.07121294, -0.21268094,  1.11820239,  1.00384954, -0.30109319,\n",
       "          0.91593538,  1.15044165,  3.1042118 ],\n",
       "        [-1.1764418 , -0.22518458, -0.18361725,  0.09398367, -0.29885832,\n",
       "          2.04529659,  0.4070293 ,  0.60808824],\n",
       "        [ 0.14281402,  0.49331991, -1.07409805, -1.18759262, -0.07167479,\n",
       "         -1.1651892 ,  0.21728507,  0.96480059]]),\n",
       " array([[ 0.93764609],\n",
       "        [-0.62281451],\n",
       "        [ 0.50065355],\n",
       "        [-0.77199257],\n",
       "        [ 0.31292727],\n",
       "        [ 0.30502291],\n",
       "        [ 0.90900874],\n",
       "        [-0.66332593]])]"
      ]
     },
     "execution_count": 3,
     "metadata": {},
     "output_type": "execute_result"
    }
   ],
   "source": [
    "# Load weights(Optional)\n",
    "loaded_nn = NeuralNetwork() # Must be same architecture as the saved model\n",
    "loaded_nn.load_weights('Best_Weights.npz')\n",
    "\n",
    "loaded_nn.weights"
   ]
  },
  {
   "cell_type": "code",
   "execution_count": 4,
   "metadata": {},
   "outputs": [],
   "source": [
    "# Test a model\n",
    "ga.test(loaded_nn, 10)"
   ]
  }
 ],
 "metadata": {
  "kernelspec": {
   "display_name": "py310",
   "language": "python",
   "name": "python3"
  },
  "language_info": {
   "codemirror_mode": {
    "name": "ipython",
    "version": 3
   },
   "file_extension": ".py",
   "mimetype": "text/x-python",
   "name": "python",
   "nbconvert_exporter": "python",
   "pygments_lexer": "ipython3",
   "version": "3.10.13"
  }
 },
 "nbformat": 4,
 "nbformat_minor": 2
}
