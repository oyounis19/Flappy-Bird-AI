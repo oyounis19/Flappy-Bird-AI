{
 "cells": [
  {
   "cell_type": "code",
   "execution_count": 1,
   "metadata": {},
   "outputs": [
    {
     "name": "stdout",
     "output_type": "stream",
     "text": [
      "pygame 2.5.2 (SDL 2.28.3, Python 3.10.13)\n",
      "Hello from the pygame community. https://www.pygame.org/contribute.html\n"
     ]
    }
   ],
   "source": [
    "from game import Game\n",
    "from model import NeuralNetwork\n",
    "from GA import GeneticAlgorithm as GA\n",
    "import matplotlib.pyplot as plt\n",
    "\n",
    "import warnings\n",
    "warnings.filterwarnings(\"ignore\") # to ignore RuntimeWarning by exp function in numpy"
   ]
  },
  {
   "cell_type": "code",
   "execution_count": 9,
   "metadata": {},
   "outputs": [],
   "source": [
    "game = Game(jump_size=8)\n",
    "\n",
    "ga = GA(population_size=100,\n",
    "        mutation_rate=0.02,\n",
    "        nn=NeuralNetwork,\n",
    "        game=game,\n",
    "        crossover_probability=0.9\n",
    "        )"
   ]
  },
  {
   "cell_type": "code",
   "execution_count": 10,
   "metadata": {},
   "outputs": [
    {
     "name": "stdout",
     "output_type": "stream",
     "text": [
      "Epoch 0: Best Score = 5\n",
      "Epoch 1: Best Score = 11\n",
      "Epoch 2: Best Score = 22\n",
      "Epoch 3: Best Score = 100\n",
      "Epoch 4: Best Score = 12\n",
      "Epoch 5: Best Score = 9\n",
      "Epoch 6: Best Score = 10\n",
      "Epoch 7: Best Score = 8\n",
      "Epoch 8: Best Score = 15\n",
      "Epoch 9: Best Score = 23\n",
      "Epoch 10: Best Score = 16\n",
      "Epoch 11: Best Score = 24\n",
      "Epoch 12: Best Score = 38\n",
      "Epoch 13: Best Score = 17\n",
      "Epoch 14: Best Score = 62\n",
      "Epoch 15: Best Score = 42\n",
      "Epoch 16: Best Score = 17\n",
      "Epoch 17: Best Score = 55\n",
      "Epoch 18: Best Score = 72\n",
      "Epoch 19: Best Score = 61\n",
      "Epoch 20: Best Score = 32\n",
      "Epoch 21: Best Score = 138\n",
      "Epoch 22: Best Score = 70\n",
      "Epoch 23: Best Score = 346\n",
      "Epoch 24: Best Score = 11\n",
      "Epoch 25: Best Score = 20\n",
      "Epoch 26: Best Score = 0\n",
      "Epoch 27: Best Score = 0\n",
      "Epoch 28: Best Score = 0\n",
      "Epoch 29: Best Score = 0\n",
      "Epoch 30: Best Score = 0\n",
      "Epoch 31: Best Score = 0\n",
      "Epoch 32: Best Score = 0\n",
      "Epoch 33: Best Score = 0\n",
      "Epoch 34: Best Score = 0\n",
      "Epoch 35: Best Score = 0\n",
      "Epoch 36: Best Score = 0\n",
      "Epoch 37: Best Score = 0\n",
      "Epoch 38: Best Score = 0\n",
      "Epoch 39: Best Score = 0\n",
      "Epoch 40: Best Score = 0\n",
      "Epoch 41: Best Score = 0\n",
      "Epoch 42: Best Score = 0\n",
      "Epoch 43: Best Score = 0\n",
      "Epoch 44: Best Score = 0\n",
      "Epoch 45: Best Score = 0\n",
      "Epoch 46: Best Score = 0\n",
      "Epoch 47: Best Score = 0\n",
      "Epoch 48: Best Score = 0\n",
      "Epoch 49: Best Score = 0\n",
      "Epoch 50: Best Score = 0\n",
      "Epoch 51: Best Score = 0\n",
      "Epoch 52: Best Score = 0\n",
      "Epoch 53: Best Score = 0\n",
      "Epoch 54: Best Score = 0\n",
      "Epoch 55: Best Score = 0\n",
      "Epoch 56: Best Score = 0\n",
      "Epoch 57: Best Score = 0\n",
      "Epoch 58: Best Score = 0\n",
      "Epoch 59: Best Score = 0\n",
      "Epoch 60: Best Score = 0\n",
      "Epoch 61: Best Score = 0\n",
      "Epoch 62: Best Score = 0\n",
      "Epoch 63: Best Score = 0\n",
      "Epoch 64: Best Score = 0\n",
      "Epoch 65: Best Score = 0\n",
      "Epoch 66: Best Score = 0\n",
      "Epoch 67: Best Score = 0\n",
      "Epoch 68: Best Score = 0\n",
      "Epoch 69: Best Score = 0\n",
      "Epoch 70: Best Score = 0\n",
      "Epoch 71: Best Score = 0\n",
      "Epoch 72: Best Score = 0\n",
      "Epoch 73: Best Score = 0\n",
      "Epoch 74: Best Score = 0\n",
      "Epoch 75: Best Score = 0\n",
      "Epoch 76: Best Score = 0\n",
      "Epoch 77: Best Score = 0\n",
      "Epoch 78: Best Score = 0\n",
      "Epoch 79: Best Score = 0\n",
      "Epoch 80: Best Score = 0\n",
      "Epoch 81: Best Score = 0\n",
      "Epoch 82: Best Score = 0\n",
      "Epoch 83: Best Score = 0\n",
      "Epoch 84: Best Score = 0\n",
      "Epoch 85: Best Score = 0\n",
      "Epoch 86: Best Score = 0\n",
      "Epoch 87: Best Score = 0\n",
      "Epoch 88: Best Score = 0\n",
      "Epoch 89: Best Score = 0\n",
      "Epoch 90: Best Score = 0\n",
      "Epoch 91: Best Score = 0\n",
      "Epoch 92: Best Score = 0\n",
      "Epoch 93: Best Score = 0\n",
      "Epoch 94: Best Score = 0\n",
      "Epoch 95: Best Score = 0\n",
      "Epoch 96: Best Score = 0\n",
      "Epoch 97: Best Score = 0\n",
      "Epoch 98: Best Score = 0\n",
      "Epoch 99: Best Score = 0\n",
      "Epoch 100: Best Score = 0\n",
      "Epoch 101: Best Score = 0\n",
      "Epoch 102: Best Score = 2\n",
      "Epoch 103: Best Score = 0\n",
      "Epoch 104: Best Score = 0\n",
      "Epoch 105: Best Score = 0\n",
      "Epoch 106: Best Score = 0\n",
      "Epoch 107: Best Score = 0\n",
      "Epoch 108: Best Score = 0\n",
      "Epoch 109: Best Score = 0\n",
      "Epoch 110: Best Score = 0\n",
      "Epoch 111: Best Score = 0\n",
      "Epoch 112: Best Score = 0\n",
      "Epoch 113: Best Score = 0\n",
      "Epoch 114: Best Score = 0\n",
      "Epoch 115: Best Score = 0\n",
      "Epoch 116: Best Score = 0\n",
      "Epoch 117: Best Score = 0\n",
      "Epoch 118: Best Score = 0\n",
      "Epoch 119: Best Score = 0\n",
      "Epoch 120: Best Score = 0\n",
      "Epoch 121: Best Score = 0\n",
      "Epoch 122: Best Score = 0\n",
      "Epoch 123: Best Score = 0\n",
      "Epoch 124: Best Score = 0\n",
      "Epoch 125: Best Score = 0\n",
      "Epoch 126: Best Score = 0\n",
      "Epoch 127: Best Score = 0\n",
      "Epoch 128: Best Score = 0\n",
      "Epoch 129: Best Score = 0\n",
      "Epoch 130: Best Score = 0\n",
      "Epoch 131: Best Score = 0\n",
      "Epoch 132: Best Score = 0\n",
      "Epoch 133: Best Score = 0\n",
      "Epoch 134: Best Score = 0\n",
      "Epoch 135: Best Score = 0\n",
      "Epoch 136: Best Score = 0\n",
      "Epoch 137: Best Score = 0\n",
      "Epoch 138: Best Score = 0\n",
      "Epoch 139: Best Score = 0\n",
      "Epoch 140: Best Score = 0\n",
      "Epoch 141: Best Score = 0\n",
      "Epoch 142: Best Score = 0\n",
      "Epoch 143: Best Score = 0\n",
      "Epoch 144: Best Score = 0\n",
      "Epoch 145: Best Score = 0\n",
      "Epoch 146: Best Score = 0\n",
      "Epoch 147: Best Score = 0\n",
      "Epoch 148: Best Score = 0\n",
      "Epoch 149: Best Score = 0\n",
      "Epoch 150: Best Score = 0\n",
      "Epoch 151: Best Score = 0\n",
      "Epoch 152: Best Score = 0\n",
      "Epoch 153: Best Score = 0\n",
      "Epoch 154: Best Score = 0\n",
      "Epoch 155: Best Score = 0\n",
      "Epoch 156: Best Score = 0\n",
      "Epoch 157: Best Score = 0\n",
      "Epoch 158: Best Score = 0\n",
      "Epoch 159: Best Score = 4\n",
      "Epoch 160: Best Score = 0\n",
      "Epoch 161: Best Score = 0\n",
      "Epoch 162: Best Score = 0\n",
      "Epoch 163: Best Score = 0\n",
      "Epoch 164: Best Score = 0\n",
      "Epoch 165: Best Score = 0\n",
      "Epoch 166: Best Score = 0\n",
      "Epoch 167: Best Score = 0\n",
      "Epoch 168: Best Score = 0\n",
      "Epoch 169: Best Score = 0\n",
      "Epoch 170: Best Score = 0\n",
      "Epoch 171: Best Score = 0\n",
      "Epoch 172: Best Score = 0\n",
      "Epoch 173: Best Score = 0\n",
      "Epoch 174: Best Score = 0\n",
      "Epoch 175: Best Score = 0\n",
      "Epoch 176: Best Score = 0\n",
      "Epoch 177: Best Score = 0\n",
      "Epoch 178: Best Score = 0\n",
      "Epoch 179: Best Score = 0\n",
      "Epoch 180: Best Score = 0\n",
      "Epoch 181: Best Score = 0\n",
      "Epoch 182: Best Score = 0\n",
      "Epoch 183: Best Score = 0\n",
      "Epoch 184: Best Score = 0\n",
      "Epoch 185: Best Score = 0\n",
      "Epoch 186: Best Score = 0\n",
      "Epoch 187: Best Score = 0\n",
      "Epoch 188: Best Score = 0\n",
      "Epoch 189: Best Score = 0\n",
      "Epoch 190: Best Score = 0\n",
      "Epoch 191: Best Score = 0\n",
      "Epoch 192: Best Score = 0\n",
      "Epoch 193: Best Score = 0\n",
      "Epoch 194: Best Score = 0\n",
      "Epoch 195: Best Score = 0\n",
      "Epoch 196: Best Score = 0\n",
      "Epoch 197: Best Score = 0\n",
      "Epoch 198: Best Score = 0\n",
      "Epoch 199: Best Score = 0\n"
     ]
    }
   ],
   "source": [
    "# Training\n",
    "best_nn = ga.train(epochs=100, max_score=800)"
   ]
  },
  {
   "cell_type": "code",
   "execution_count": 3,
   "metadata": {},
   "outputs": [
    {
     "data": {
      "image/png": "[encoded data removed]",
      "text/plain": [
       "<Figure size 640x480 with 1 Axes>"
      ]
     },
     "metadata": {},
     "output_type": "display_data"
    }
   ],
   "source": [
    "# Plotting\n",
    "plt.plot(ga.best_scores)\n",
    "plt.xlabel('Generation')\n",
    "plt.ylabel('Best Score')\n",
    "plt.title('Genetic Algorithm')\n",
    "plt.show()"
   ]
  },
  {
   "cell_type": "code",
   "execution_count": 11,
   "metadata": {},
   "outputs": [
    {
     "data": {
      "text/plain": [
       "True"
      ]
     },
     "execution_count": 11,
     "metadata": {},
     "output_type": "execute_result"
    }
   ],
   "source": [
    "# Save the best weights(Optional)\n",
    "best_nn.save_weights('Best_Weights')"
   ]
  },
  {
   "cell_type": "code",
   "execution_count": 14,
   "metadata": {},
   "outputs": [
    {
     "data": {
      "text/plain": [
       "True"
      ]
     },
     "execution_count": 14,
     "metadata": {},
     "output_type": "execute_result"
    }
   ],
   "source": [
    "# Load weights(Optional)\n",
    "loaded_nn = NeuralNetwork() # Must be same architecture as the saved model\n",
    "loaded_nn.load_weights('Best_Weights.npz')"
   ]
  },
  {
   "cell_type": "code",
   "execution_count": 13,
   "metadata": {},
   "outputs": [],
   "source": [
    "# Test a model\n",
    "ga.test(loaded_nn, num_episodes=1)"
   ]
  }
 ],
 "metadata": {
  "kernelspec": {
   "display_name": "py310",
   "language": "python",
   "name": "python3"
  },
  "language_info": {
   "codemirror_mode": {
    "name": "ipython",
    "version": 3
   },
   "file_extension": ".py",
   "mimetype": "text/x-python",
   "name": "python",
   "nbconvert_exporter": "python",
   "pygments_lexer": "ipython3",
   "version": "3.10.13"
  }
 },
 "nbformat": 4,
 "nbformat_minor": 2
}
